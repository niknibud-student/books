{
 "cells": [
  {
   "cell_type": "markdown",
   "metadata": {},
   "source": [
    "# Глава 6. Словари"
   ]
  },
  {
   "cell_type": "markdown",
   "metadata": {},
   "source": [
    "Task 6.1. Человек"
   ]
  },
  {
   "cell_type": "code",
   "execution_count": 1,
   "metadata": {},
   "outputs": [
    {
     "name": "stdout",
     "output_type": "stream",
     "text": [
      "first_name: Victoria\n",
      "last_name: Dubinkina\n",
      "age: 10\n",
      "city: Yakhroma\n"
     ]
    }
   ],
   "source": [
    "human = {\n",
    "    'first_name': 'Victoria',\n",
    "    'last_name': 'Dubinkina',\n",
    "    'age': 10,\n",
    "    'city': 'Yakhroma'\n",
    "}\n",
    "for k, v in human.items():\n",
    "    print(f'{k}: {v}')"
   ]
  },
  {
   "cell_type": "markdown",
   "metadata": {},
   "source": [
    "Task 6.2. Любимые числа"
   ]
  },
  {
   "cell_type": "code",
   "execution_count": 2,
   "metadata": {},
   "outputs": [
    {
     "name": "stdout",
     "output_type": "stream",
     "text": [
      "Любимые числа:\n",
      "Vika - 3\n",
      "Pavel - 7\n",
      "Julia - 13\n"
     ]
    }
   ],
   "source": [
    "favourite_numbers = {\n",
    "    'Vika': 3,\n",
    "    'Pavel': 7,\n",
    "    'Julia': 13\n",
    "}\n",
    "print('Любимые числа:')\n",
    "for k, v in favourite_numbers.items():\n",
    "    print(f'{k} - {v}')"
   ]
  },
  {
   "cell_type": "markdown",
   "metadata": {},
   "source": [
    "Task 6.3. Глоссарий"
   ]
  },
  {
   "cell_type": "code",
   "execution_count": 5,
   "metadata": {},
   "outputs": [
    {
     "name": "stdout",
     "output_type": "stream",
     "text": [
      "переменная\n",
      "\tпоименнованная область памяти, где хранятся данные\n",
      "\n",
      "константа\n",
      "\tзначение не меняющееся во время выполнения программы\n",
      "\n",
      "список\n",
      "\tупорядоченная изменяемая структура данных, ограниченная квадратными скобками\n",
      "\n",
      "кортеж\n",
      "\tупорядоченная неизменяемая структура данных, ограниченная круглыми скобками\n",
      "\n"
     ]
    }
   ],
   "source": [
    "glossary = {\n",
    "    'переменная': 'поименнованная область памяти, где хранятся данные',\n",
    "    'константа': 'значение не меняющееся во время выполнения программы',\n",
    "    'список': 'упорядоченная изменяемая структура данных, ограниченная квадратными скобками',\n",
    "    'кортеж': 'упорядоченная неизменяемая структура данных, ограниченная круглыми скобками'\n",
    "}\n",
    "for k, v in glossary.items():\n",
    "    print(k)\n",
    "    print(f'\\t{v}')\n",
    "    print()"
   ]
  }
 ],
 "metadata": {
  "kernelspec": {
   "display_name": "env",
   "language": "python",
   "name": "python3"
  },
  "language_info": {
   "codemirror_mode": {
    "name": "ipython",
    "version": 3
   },
   "file_extension": ".py",
   "mimetype": "text/x-python",
   "name": "python",
   "nbconvert_exporter": "python",
   "pygments_lexer": "ipython3",
   "version": "3.10.0 (tags/v3.10.0:b494f59, Oct  4 2021, 19:00:18) [MSC v.1929 64 bit (AMD64)]"
  },
  "orig_nbformat": 4,
  "vscode": {
   "interpreter": {
    "hash": "0041a2ae00882e476dfc56628dd8cb404238a4525113afa8f8b3eefde67622c5"
   }
  }
 },
 "nbformat": 4,
 "nbformat_minor": 2
}
