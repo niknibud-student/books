{
 "cells": [
  {
   "attachments": {},
   "cell_type": "markdown",
   "metadata": {},
   "source": [
    "# Глава 9. Функции"
   ]
  },
  {
   "cell_type": "code",
   "execution_count": 1,
   "metadata": {},
   "outputs": [
    {
     "name": "stdout",
     "output_type": "stream",
     "text": [
      "['Harry', 'Ron', 'Hermione']\n"
     ]
    }
   ],
   "source": [
    "\"\"\" 9.1. Определите функцию good(), которая возвращает следующий список: ['Harry', 'Ron', 'Hermione'] \"\"\"\n",
    "\n",
    "def good() -> list:\n",
    "    return ['Harry', 'Ron', 'Hermione']\n",
    "\n",
    "print(good())"
   ]
  },
  {
   "cell_type": "code",
   "execution_count": 8,
   "metadata": {},
   "outputs": [
    {
     "name": "stdout",
     "output_type": "stream",
     "text": [
      "1\n",
      "3\n",
      "5\n",
      "7\n",
      "9\n"
     ]
    }
   ],
   "source": [
    "\"\"\" Определите функцию генератора get_odds(), которая возвращает нечетные \n",
    "числа из диапазона range(10). Используйте цикл for, чтобы найти и вывести \n",
    "третье возвращенное значение. \"\"\"\n",
    "\n",
    "from typing import Generator\n",
    "\n",
    "\n",
    "def get_odds() -> Generator:\n",
    "    for num in range(1, 10, 2):\n",
    "        yield num\n",
    "                \n",
    "\n",
    "for x in get_odds():\n",
    "    print(x)"
   ]
  },
  {
   "cell_type": "code",
   "execution_count": 15,
   "metadata": {},
   "outputs": [
    {
     "name": "stdout",
     "output_type": "stream",
     "text": [
      "start\n",
      "5\n",
      "end\n"
     ]
    }
   ],
   "source": [
    "\"\"\" 9.3. Определите декоратор test, который выводит строку 'start' при вызове функ-\n",
    "ции и строку 'end', когда функция завершает свою работу. \"\"\"\n",
    "\n",
    "from typing import Callable\n",
    "\n",
    "\n",
    "def test(func: Callable) -> Callable:\n",
    "    def wrap_test(*args, **kwargs):\n",
    "        print('start')\n",
    "        result = func(*args, **kwargs) \n",
    "        print('end')\n",
    "        return result\n",
    "    return wrap_test\n",
    "\n",
    "@test\n",
    "def sum(a: int|float, b: int|float) -> int|float:\n",
    "    print(a + b)\n",
    "\n",
    "\n",
    "sum(2, 3)"
   ]
  },
  {
   "cell_type": "code",
   "execution_count": 18,
   "metadata": {},
   "outputs": [
    {
     "name": "stdout",
     "output_type": "stream",
     "text": [
      "Caught an oops\n"
     ]
    }
   ],
   "source": [
    "\"\"\" 9.4. Определите исключение OopsException. Сгенерируйте его и посмотрите, что \n",
    "произойдет. Затем напишите код, позволяющий поймать это исключение и вы-\n",
    "вести строку 'Caught an oops'. \"\"\"\n",
    "\n",
    "class OopsException(Exception):\n",
    "    pass\n",
    "\n",
    "\n",
    "words = ['eeenie', 'meenie', 'miny', 'MO']\n",
    "try:\n",
    "    for word in words:\n",
    "        if word.isupper():\n",
    "            raise OopsException(word)\n",
    "except OopsException as exc:\n",
    "    print('Caught an oops')"
   ]
  }
 ],
 "metadata": {
  "kernelspec": {
   "display_name": "env",
   "language": "python",
   "name": "python3"
  },
  "language_info": {
   "codemirror_mode": {
    "name": "ipython",
    "version": 3
   },
   "file_extension": ".py",
   "mimetype": "text/x-python",
   "name": "python",
   "nbconvert_exporter": "python",
   "pygments_lexer": "ipython3",
   "version": "3.10.0"
  },
  "orig_nbformat": 4,
  "vscode": {
   "interpreter": {
    "hash": "0041a2ae00882e476dfc56628dd8cb404238a4525113afa8f8b3eefde67622c5"
   }
  }
 },
 "nbformat": 4,
 "nbformat_minor": 2
}
