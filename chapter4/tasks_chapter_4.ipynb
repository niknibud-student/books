{
 "cells": [
  {
   "cell_type": "markdown",
   "metadata": {},
   "source": [
    "# Списки"
   ]
  },
  {
   "cell_type": "markdown",
   "metadata": {},
   "source": [
    "Task 4.1"
   ]
  },
  {
   "cell_type": "code",
   "execution_count": 7,
   "metadata": {},
   "outputs": [
    {
     "name": "stdout",
     "output_type": "stream",
     "text": [
      "I like Палермо pizza\n",
      "I like Мясной микс pizza\n",
      "I like Карбонара pizza\n",
      "I really love pizza!\n"
     ]
    }
   ],
   "source": [
    "pizzas = ['Палермо', 'Мясной микс', 'Карбонара']\n",
    "for pizza in pizzas:\n",
    "    print(f'I like {pizza} pizza')\n",
    "\n",
    "print('I really love pizza!')"
   ]
  },
  {
   "cell_type": "markdown",
   "metadata": {},
   "source": [
    "Task 4.2"
   ]
  },
  {
   "cell_type": "code",
   "execution_count": 8,
   "metadata": {},
   "outputs": [
    {
     "name": "stdout",
     "output_type": "stream",
     "text": [
      "A cat would make a great pet\n",
      "A lion would make a great pet\n",
      "A gepard would make a great pet\n",
      "A tiger would make a great pet\n",
      "Any of these animals would make a great pet!\n"
     ]
    }
   ],
   "source": [
    "animals = ['cat', 'lion', 'gepard', 'tiger']\n",
    "for animal in animals:\n",
    "    print(f'A {animal} would make a great pet')\n",
    "\n",
    "print('Any of these animals would make a great pet!')"
   ]
  },
  {
   "cell_type": "markdown",
   "metadata": {},
   "source": [
    "Task 4.3"
   ]
  },
  {
   "cell_type": "code",
   "execution_count": null,
   "metadata": {},
   "outputs": [],
   "source": [
    "for i in range(1, 21):\n",
    "    print(i)"
   ]
  },
  {
   "cell_type": "markdown",
   "metadata": {},
   "source": [
    "Task 4.4"
   ]
  },
  {
   "cell_type": "code",
   "execution_count": null,
   "metadata": {},
   "outputs": [],
   "source": [
    "million = [x for x in range(1, 1000001)]\n",
    "for i in million:\n",
    "    print(i)"
   ]
  },
  {
   "cell_type": "markdown",
   "metadata": {},
   "source": [
    "Task 4.5"
   ]
  },
  {
   "cell_type": "code",
   "execution_count": 2,
   "metadata": {},
   "outputs": [
    {
     "name": "stdout",
     "output_type": "stream",
     "text": [
      "1\n",
      "1000000\n",
      "500000500000\n"
     ]
    }
   ],
   "source": [
    "million = [x for x in range(1, 1000001)]\n",
    "print(min(million))\n",
    "print(max(million))\n",
    "print(sum(million))"
   ]
  },
  {
   "cell_type": "markdown",
   "metadata": {},
   "source": [
    "Task 4.6"
   ]
  },
  {
   "cell_type": "code",
   "execution_count": 3,
   "metadata": {},
   "outputs": [
    {
     "name": "stdout",
     "output_type": "stream",
     "text": [
      "[1, 3, 5, 7, 9, 11, 13, 15, 17, 19]\n"
     ]
    }
   ],
   "source": [
    "print([x for x in range(1, 20, 2)])"
   ]
  },
  {
   "cell_type": "markdown",
   "metadata": {},
   "source": [
    "Task 4.7"
   ]
  },
  {
   "cell_type": "code",
   "execution_count": 2,
   "metadata": {},
   "outputs": [
    {
     "name": "stdout",
     "output_type": "stream",
     "text": [
      "[3, 6, 9, 12, 15, 18, 21, 24, 27, 30]\n"
     ]
    }
   ],
   "source": [
    "list_3 = [x for x in range(3, 31, 3)]\n",
    "print(list_3)"
   ]
  },
  {
   "cell_type": "markdown",
   "metadata": {},
   "source": [
    "- Task 4.8\n",
    "- Task 4.9"
   ]
  },
  {
   "cell_type": "code",
   "execution_count": null,
   "metadata": {},
   "outputs": [],
   "source": [
    "cubes = [x**3 for x in range(1, 11)]\n",
    "for i in cubes:\n",
    "    print(i)"
   ]
  },
  {
   "cell_type": "markdown",
   "metadata": {},
   "source": [
    "Task 4.10"
   ]
  },
  {
   "cell_type": "code",
   "execution_count": 6,
   "metadata": {},
   "outputs": [
    {
     "name": "stdout",
     "output_type": "stream",
     "text": [
      "The first three items in the list are: ['pizza', 'falafel', 'carrot cake']\n",
      "Three items from the middle of the list are:['falafel', 'carrot cake', 'cannoli']\n",
      "The last three items in the list are: ['carrot cake', 'cannoli', 'ice cream']\n"
     ]
    }
   ],
   "source": [
    "my_food = ['pizza', 'falafel', 'carrot cake', 'cannoli', 'ice cream']\n",
    "print(f'The first three items in the list are: {my_food[:3]}')\n",
    "print(f'Three items from the middle of the list are:{my_food[len(my_food) // 2 - 1:len(my_food) // 2 + 2]}')\n",
    "print(f'The last three items in the list are: {my_food[-3:]}')"
   ]
  },
  {
   "cell_type": "markdown",
   "metadata": {},
   "source": [
    "Task 4.11"
   ]
  },
  {
   "cell_type": "code",
   "execution_count": 9,
   "metadata": {},
   "outputs": [
    {
     "name": "stdout",
     "output_type": "stream",
     "text": [
      "My favourite pizzas are:\n",
      "Палермо\n",
      "Мясной микс\n",
      "Карбонара\n",
      "Pepperoni\n",
      "My friend's pizzas are:\n",
      "Palermo\n",
      "Neoplitano\n",
      "Four cheeses\n",
      "Carbonara\n",
      "Calcone\n"
     ]
    }
   ],
   "source": [
    "friend_pizzas = ['Palermo', 'Neoplitano', 'Four cheeses', 'Carbonara']\n",
    "pizzas.append('Pepperoni')\n",
    "friend_pizzas.append('Calcone')\n",
    "print('My favourite pizzas are:')\n",
    "for pizza in pizzas:\n",
    "    print(pizza)\n",
    "print(\"My friend's pizzas are:\")\n",
    "for pizza in friend_pizzas:\n",
    "    print(pizza)"
   ]
  },
  {
   "cell_type": "markdown",
   "metadata": {},
   "source": [
    "Task 4.12"
   ]
  },
  {
   "cell_type": "code",
   "execution_count": 10,
   "metadata": {},
   "outputs": [
    {
     "name": "stdout",
     "output_type": "stream",
     "text": [
      "My favorite foods are:\n",
      "pizza\n",
      "falafel\n",
      "carrot cake\n",
      "cannoli\n",
      "\n",
      "My friend's favorite foods are:\n",
      "pizza\n",
      "falafel\n",
      "carrot cake\n",
      "ice cream\n"
     ]
    }
   ],
   "source": [
    "my_foods = ['pizza', 'falafel', 'carrot cake']\n",
    "friend_foods = my_foods[:]\n",
    "my_foods.append('cannoli')\n",
    "friend_foods.append('ice cream')\n",
    "print(\"My favorite foods are:\")\n",
    "for i in my_foods:\n",
    "    print(i)\n",
    "print(\"\\nMy friend's favorite foods are:\")\n",
    "for i in friend_foods:\n",
    "    print(i)"
   ]
  },
  {
   "cell_type": "markdown",
   "metadata": {},
   "source": [
    "# Кортежи"
   ]
  },
  {
   "cell_type": "markdown",
   "metadata": {},
   "source": [
    "Task 4.13"
   ]
  },
  {
   "cell_type": "code",
   "execution_count": 15,
   "metadata": {},
   "outputs": [
    {
     "name": "stdout",
     "output_type": "stream",
     "text": [
      "Restraunt menu:\n",
      "potato and fry fish\n",
      "burger with ham\n",
      "pelmeni with sour cream\n",
      "beaf stroganoff\n",
      "pasta with cheese\n",
      "\n",
      "New restraunt menu:\n",
      "pelmeni with sour cream\n",
      "beaf stroganoff\n",
      "pasta with cheese\n",
      "fetuchini\n",
      "hot sandwich\n"
     ]
    }
   ],
   "source": [
    "menu = ('potato and fry fish', 'burger with ham', 'pelmeni with sour cream', 'beaf stroganoff', 'pasta with cheese')\n",
    "print('Restraunt menu:')\n",
    "for i in menu:\n",
    "    print(i)\n",
    "# menu[0] = 'fry meat'\n",
    "new_menu = []\n",
    "for i in menu[2:]:\n",
    "    new_menu.append(i)\n",
    "new_menu.append('fetuchini')\n",
    "new_menu.append('hot sandwich')\n",
    "print('\\nNew restraunt menu:')\n",
    "for i in new_menu:\n",
    "    print(i)\n"
   ]
  }
 ],
 "metadata": {
  "kernelspec": {
   "display_name": "env",
   "language": "python",
   "name": "python3"
  },
  "language_info": {
   "codemirror_mode": {
    "name": "ipython",
    "version": 3
   },
   "file_extension": ".py",
   "mimetype": "text/x-python",
   "name": "python",
   "nbconvert_exporter": "python",
   "pygments_lexer": "ipython3",
   "version": "3.10.0"
  },
  "orig_nbformat": 4,
  "vscode": {
   "interpreter": {
    "hash": "0041a2ae00882e476dfc56628dd8cb404238a4525113afa8f8b3eefde67622c5"
   }
  }
 },
 "nbformat": 4,
 "nbformat_minor": 2
}
