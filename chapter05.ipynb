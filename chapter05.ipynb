{
 "cells": [
  {
   "cell_type": "markdown",
   "metadata": {},
   "source": [
    "# Глава 6. Словари"
   ]
  },
  {
   "cell_type": "code",
   "execution_count": 1,
   "metadata": {},
   "outputs": [
    {
     "name": "stdout",
     "output_type": "stream",
     "text": [
      "{'first_name': 'Pavel', 'Last_name': 'Dubinkin', 'age': 43, 'city': 'Yakhroma'}\n"
     ]
    }
   ],
   "source": [
    "human = {\n",
    "    'first_name': 'Pavel',\n",
    "    'Last_name': 'Dubinkin',\n",
    "    'age': 43,\n",
    "    'city': 'Yakhroma',\n",
    "}\n",
    "print(human)"
   ]
  },
  {
   "cell_type": "code",
   "execution_count": 3,
   "metadata": {},
   "outputs": [
    {
     "name": "stdout",
     "output_type": "stream",
     "text": [
      "Julia - 7\n",
      "Victoria - 3\n",
      "Pavel - 9\n"
     ]
    }
   ],
   "source": [
    "favourite_numbers = {\n",
    "    'Julia': 7,\n",
    "    'Victoria': 3,\n",
    "    'Pavel': 9,\n",
    "}\n",
    "\n",
    "for k, v in favourite_numbers.items():\n",
    "    print(k, '-', v)"
   ]
  },
  {
   "cell_type": "code",
   "execution_count": 1,
   "metadata": {},
   "outputs": [
    {
     "name": "stdout",
     "output_type": "stream",
     "text": [
      "строка:\n",
      "\tпростая последовательность символов\n",
      "вещественные числа:\n",
      "\tчисла, имеющие дробную часть\n",
      "комментарий:\n",
      "\tзаметка, написанная на понятном языке\n",
      "список:\n",
      "\tизменяемый набор элементов, следующих в определенном порядке\n",
      "кортеж:\n",
      "\tнеизменяемый набор элементов, следующих в определенном порядке\n"
     ]
    }
   ],
   "source": [
    "glossary = {\n",
    "    'строка': 'простая последовательность символов',\n",
    "    'вещественные числа': 'числа, имеющие дробную часть',\n",
    "    'комментарий': 'заметка, написанная на понятном языке',\n",
    "    'список': 'изменяемый набор элементов, следующих в определенном порядке',\n",
    "    'кортеж': 'неизменяемый набор элементов, следующих в определенном порядке'\n",
    "}\n",
    "\n",
    "for term, defin in glossary.items():\n",
    "    print(f'{term}:\\n\\t{defin}')"
   ]
  },
  {
   "cell_type": "code",
   "execution_count": 2,
   "metadata": {},
   "outputs": [
    {
     "name": "stdout",
     "output_type": "stream",
     "text": [
      "Нил протекает через Египет\n",
      "Волга протекает через Россия\n",
      "Амазонка протекает через Бразилия\n"
     ]
    }
   ],
   "source": [
    "rivers = {\n",
    "    'Нил': 'Египет',\n",
    "    'Волга': 'Россия',\n",
    "    'Амазонка': 'Бразилия'\n",
    "}\n",
    "\n",
    "for river, country in rivers.items():\n",
    "    print(f'{river} протекает через {country}')\n",
    "\n",
    "\n"
   ]
  },
  {
   "cell_type": "code",
   "execution_count": 3,
   "metadata": {},
   "outputs": [
    {
     "name": "stdout",
     "output_type": "stream",
     "text": [
      "Dear Jen, thank you for participating in the survey\n",
      "Dear Sarah, thank you for participating in the survey\n",
      "Dear Edward, thank you for participating in the survey\n",
      "Dear Phil, thank you for participating in the survey\n",
      "Dear John, we invite you to take a survey about your favorite programming language\n",
      "Dear Bob, we invite you to take a survey about your favorite programming language\n",
      "Dear Sandra, we invite you to take a survey about your favorite programming language\n",
      "Dear Paul, we invite you to take a survey about your favorite programming language\n"
     ]
    }
   ],
   "source": [
    "favourite_language = {\n",
    "    'Jen': 'Python',\n",
    "    'Sarah': 'C',\n",
    "    'Edward': 'Ruby',\n",
    "    'Phil': 'Python',\n",
    "    'John': '',\n",
    "    'Bob': '',\n",
    "    'Sandra': '',\n",
    "    'Paul': '',\n",
    "}\n",
    "\n",
    "for user, lang in favourite_language.items():\n",
    "    if lang == '':\n",
    "        print(f'Dear {user}, we invite you to take a survey about your favorite programming language')\n",
    "    else:\n",
    "        print(f'Dear {user}, thank you for participating in the survey')"
   ]
  }
 ],
 "metadata": {
  "kernelspec": {
   "display_name": "env",
   "language": "python",
   "name": "python3"
  },
  "language_info": {
   "codemirror_mode": {
    "name": "ipython",
    "version": 3
   },
   "file_extension": ".py",
   "mimetype": "text/x-python",
   "name": "python",
   "nbconvert_exporter": "python",
   "pygments_lexer": "ipython3",
   "version": "3.10.0 (tags/v3.10.0:b494f59, Oct  4 2021, 19:00:18) [MSC v.1929 64 bit (AMD64)]"
  },
  "orig_nbformat": 4,
  "vscode": {
   "interpreter": {
    "hash": "0041a2ae00882e476dfc56628dd8cb404238a4525113afa8f8b3eefde67622c5"
   }
  }
 },
 "nbformat": 4,
 "nbformat_minor": 2
}
