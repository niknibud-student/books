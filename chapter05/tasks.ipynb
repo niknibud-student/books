{
 "cells": [
  {
   "cell_type": "markdown",
   "metadata": {},
   "source": [
    "# Глава 5. Текстовые строки"
   ]
  },
  {
   "cell_type": "markdown",
   "metadata": {},
   "source": [
    "Exercise 5.1"
   ]
  },
  {
   "cell_type": "code",
   "execution_count": 4,
   "metadata": {},
   "outputs": [
    {
     "name": "stdout",
     "output_type": "stream",
     "text": [
      "When an eel grabs your arm, And it causes great harm, That's - a Moray!\n"
     ]
    }
   ],
   "source": [
    "song = \"\"\"When an eel grabs your arm,\n",
    "And it causes great harm,\n",
    "That's - a moray!\"\"\"\n",
    "words = song.split()\n",
    "\n",
    "for i in range(len(words)):\n",
    "    if words[i].startswith('m'):\n",
    "        words[i] = words[i].capitalize()\n",
    "\n",
    "song = ' '.join(words)\n",
    "print(song)"
   ]
  },
  {
   "cell_type": "markdown",
   "metadata": {},
   "source": [
    "Exercise 5.2"
   ]
  },
  {
   "cell_type": "code",
   "execution_count": 5,
   "metadata": {},
   "outputs": [
    {
     "name": "stdout",
     "output_type": "stream",
     "text": [
      "Q: We don't serve strings around here. Are you a string?\n",
      "A: An exploding sheep.\n",
      "Q: What is said on Father's Day in the forest?\n",
      "A: No, I'm a frayed knot.\n",
      "Q: What makes the sound 'Sis! Boom! Bah!'?\n",
      "A: 'Pop!' goes the weasel.\n"
     ]
    }
   ],
   "source": [
    "questions = [\n",
    "    \"We don't serve strings around here. Are you a string?\",\n",
    "    \"What is said on Father's Day in the forest?\",\n",
    "    \"What makes the sound 'Sis! Boom! Bah!'?\"\n",
    "]\n",
    "answers = [\n",
    "    \"An exploding sheep.\",\n",
    "    \"No, I'm a frayed knot.\",\n",
    "    \"'Pop!' goes the weasel.\"\n",
    "]\n",
    "\n",
    "for i in range(3):\n",
    "    print(f'Q: {questions[i]}')\n",
    "    print(f'A: {answers[i]}')"
   ]
  },
  {
   "cell_type": "markdown",
   "metadata": {},
   "source": [
    "Exercise 5.3"
   ]
  },
  {
   "cell_type": "code",
   "execution_count": 8,
   "metadata": {},
   "outputs": [
    {
     "name": "stdout",
     "output_type": "stream",
     "text": [
      "My kitty cat likes roast beaf\n",
      "My kitty cat likes ham\n",
      "My kitty cat fell on his head\n",
      "And now thinks he's a clam\n"
     ]
    }
   ],
   "source": [
    "print('My kitty cat likes %s' % 'roast beaf')\n",
    "print('My kitty cat likes %s' % 'ham')\n",
    "print('My kitty cat fell on his %s' % 'head')\n",
    "print(\"And now thinks he's a %s\" % 'clam')"
   ]
  },
  {
   "cell_type": "markdown",
   "metadata": {},
   "source": [
    "Exercise 5.4"
   ]
  },
  {
   "cell_type": "code",
   "execution_count": 15,
   "metadata": {},
   "outputs": [],
   "source": [
    "letter = \"\"\"Dear {salutation} {name},\n",
    "\n",
    "Thank you for your letter. We are sorry that our {product}\n",
    "{verbed} in your {room}. Please note that it should never\n",
    "be used in a {room}, especially near any {animals}.\n",
    "\n",
    "Send us your receipt and {amount} for shipping and handling.\n",
    "We will send you another {product} that, in our tests,\n",
    "is {percent}% less likely to have {verbed}.\n",
    "\n",
    "Thank you for your support.\n",
    "Sincerely,\n",
    "{spokesman}\n",
    "{job_title}\"\"\""
   ]
  },
  {
   "cell_type": "markdown",
   "metadata": {},
   "source": [
    "Exercise 5.5"
   ]
  },
  {
   "cell_type": "code",
   "execution_count": 18,
   "metadata": {},
   "outputs": [
    {
     "name": "stdout",
     "output_type": "stream",
     "text": [
      "Dear miss Jess Monro,\n",
      "\n",
      "Thank you for your letter. We are sorry that our microwave oven\n",
      "broke in your bathroom. Please note that it should never\n",
      "be used in a bathroom, especially near any cats.\n",
      "\n",
      "Send us your receipt and 1000 for shipping and handling.\n",
      "We will send you another microwave oven that, in our tests,\n",
      "is 40% less likely to have broke.\n",
      "\n",
      "Thank you for your support.\n",
      "Sincerely,\n",
      "Harry Harison\n",
      "Microwaves Corp.\n"
     ]
    }
   ],
   "source": [
    "complete_letter = letter.format(\n",
    "    salutation='miss',\n",
    "    name='Jess Monro', \n",
    "    product='microwave oven', \n",
    "    verbed='broke', \n",
    "    room='bathroom', \n",
    "    animals='cats', \n",
    "    amount=1000, \n",
    "    percent=40,\n",
    "    spokesman='Harry Harison',\n",
    "    job_title='Microwaves Corp.')\n",
    "print(complete_letter)"
   ]
  },
  {
   "cell_type": "markdown",
   "metadata": {},
   "source": [
    "Exercise 5.6"
   ]
  },
  {
   "cell_type": "code",
   "execution_count": 19,
   "metadata": {},
   "outputs": [
    {
     "name": "stdout",
     "output_type": "stream",
     "text": [
      "Утка Morty\n",
      "Тыква King Victory\n",
      "Шпиц Белферлейн\n"
     ]
    }
   ],
   "source": [
    "print('Утка %s' % 'Morty')\n",
    "print('Тыква %s' % 'King Victory')\n",
    "print('Шпиц %s' % 'Белферлейн')"
   ]
  },
  {
   "cell_type": "markdown",
   "metadata": {},
   "source": [
    "Exercise 5.7"
   ]
  },
  {
   "cell_type": "code",
   "execution_count": 21,
   "metadata": {},
   "outputs": [
    {
     "name": "stdout",
     "output_type": "stream",
     "text": [
      "Утка Morty\n",
      "Тыква King Victory\n",
      "Шпиц Белферлейн\n"
     ]
    }
   ],
   "source": [
    "print('Утка {}'.format('Morty'))\n",
    "print('Тыква {}'.format('King Victory'))\n",
    "print('Шпиц {}'.format('Белферлейн'))"
   ]
  },
  {
   "cell_type": "markdown",
   "metadata": {},
   "source": [
    "Exercise 5.8"
   ]
  },
  {
   "cell_type": "code",
   "execution_count": 23,
   "metadata": {},
   "outputs": [
    {
     "name": "stdout",
     "output_type": "stream",
     "text": [
      "Утка Morty\n",
      "Тыква King Victory\n",
      "Шпиц Белферлейн\n"
     ]
    }
   ],
   "source": [
    "print(f\"Утка {'Morty'}\")\n",
    "print(f\"Тыква {'King Victory'}\")\n",
    "print(f\"Шпиц {'Белферлейн'}\")"
   ]
  }
 ],
 "metadata": {
  "kernelspec": {
   "display_name": "env",
   "language": "python",
   "name": "python3"
  },
  "language_info": {
   "codemirror_mode": {
    "name": "ipython",
    "version": 3
   },
   "file_extension": ".py",
   "mimetype": "text/x-python",
   "name": "python",
   "nbconvert_exporter": "python",
   "pygments_lexer": "ipython3",
   "version": "3.10.0"
  },
  "orig_nbformat": 4,
  "vscode": {
   "interpreter": {
    "hash": "0041a2ae00882e476dfc56628dd8cb404238a4525113afa8f8b3eefde67622c5"
   }
  }
 },
 "nbformat": 4,
 "nbformat_minor": 2
}
